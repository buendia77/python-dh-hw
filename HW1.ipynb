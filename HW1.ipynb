{
 "cells": [
  {
   "cell_type": "markdown",
   "metadata": {},
   "source": [
    "Задание 1"
   ]
  },
  {
   "cell_type": "code",
   "execution_count": 2,
   "metadata": {},
   "outputs": [
    {
     "name": "stdout",
     "output_type": "stream",
     "text": [
      "8\n",
      "   _~_       _~_       _~_       _~_       _~_       _~_       _~_       _~_    \n",
      "  (o o)     (o o)     (o o)     (o o)     (o o)     (o o)     (o o)     (o o)   \n",
      " /  V  \\   /  V  \\   /  V  \\   /  V  \\   /  V  \\   /  V  \\   /  V  \\   /  V  \\  \n",
      "/(  _  )\\ /(  _  )\\ /(  _  )\\ /(  _  )\\ /(  _  )\\ /(  _  )\\ /(  _  )\\ /(  _  )\\ \n",
      "  ^^ ^^     ^^ ^^     ^^ ^^     ^^ ^^     ^^ ^^     ^^ ^^     ^^ ^^     ^^ ^^   \n"
     ]
    }
   ],
   "source": [
    "pin1='   _~_    '\n",
    "pin2='  (o o)   '\n",
    "pin3=' /  V  \\\\  '\n",
    "pin4='/(  _  )\\\\ '\n",
    "pin5='  ^^ ^^   '\n",
    "\n",
    "n=int(input())\n",
    "\n",
    "print(pin1*n)\n",
    "print(pin2*n)\n",
    "print(pin3*n)\n",
    "print(pin4*n)\n",
    "print(pin5*n)"
   ]
  },
  {
   "cell_type": "code",
   "execution_count": null,
   "metadata": {},
   "outputs": [],
   "source": []
  },
  {
   "cell_type": "markdown",
   "metadata": {},
   "source": [
    "Задание 2"
   ]
  },
  {
   "cell_type": "code",
   "execution_count": 1,
   "metadata": {},
   "outputs": [
    {
     "name": "stdout",
     "output_type": "stream",
     "text": [
      "petya edet na voynu\n"
     ]
    }
   ],
   "source": [
    "stroka=input()"
   ]
  },
  {
   "cell_type": "code",
   "execution_count": 2,
   "metadata": {},
   "outputs": [
    {
     "data": {
      "text/plain": [
       "19"
      ]
     },
     "execution_count": 2,
     "metadata": {},
     "output_type": "execute_result"
    }
   ],
   "source": [
    "len(stroka)"
   ]
  },
  {
   "cell_type": "code",
   "execution_count": 3,
   "metadata": {},
   "outputs": [
    {
     "name": "stdout",
     "output_type": "stream",
     "text": [
      "3\n"
     ]
    }
   ],
   "source": [
    "i=0\n",
    "for c in stroka:\n",
    "    if c==' ':\n",
    "        i+=1\n",
    "print(i)"
   ]
  },
  {
   "cell_type": "markdown",
   "metadata": {},
   "source": [
    "Задание 3"
   ]
  },
  {
   "cell_type": "code",
   "execution_count": 4,
   "metadata": {},
   "outputs": [
    {
     "name": "stdout",
     "output_type": "stream",
     "text": [
      "petya vernulsya s voyni so svoey molodoy zhenoy\n"
     ]
    }
   ],
   "source": [
    "stroka=input()"
   ]
  },
  {
   "cell_type": "code",
   "execution_count": 6,
   "metadata": {},
   "outputs": [
    {
     "data": {
      "text/plain": [
       "'t'"
      ]
     },
     "execution_count": 6,
     "metadata": {},
     "output_type": "execute_result"
    }
   ],
   "source": [
    "stroka[2]"
   ]
  },
  {
   "cell_type": "code",
   "execution_count": 7,
   "metadata": {},
   "outputs": [
    {
     "data": {
      "text/plain": [
       "'o'"
      ]
     },
     "execution_count": 7,
     "metadata": {},
     "output_type": "execute_result"
    }
   ],
   "source": [
    "stroka[-2]"
   ]
  },
  {
   "cell_type": "code",
   "execution_count": 10,
   "metadata": {},
   "outputs": [
    {
     "data": {
      "text/plain": [
       "'petya'"
      ]
     },
     "execution_count": 10,
     "metadata": {},
     "output_type": "execute_result"
    }
   ],
   "source": [
    "stroka[:5]"
   ]
  },
  {
   "cell_type": "code",
   "execution_count": 12,
   "metadata": {},
   "outputs": [
    {
     "data": {
      "text/plain": [
       "'petya vernulsya s voyni so svoey molodoy zhen'"
      ]
     },
     "execution_count": 12,
     "metadata": {},
     "output_type": "execute_result"
    }
   ],
   "source": [
    "stroka[:-2]"
   ]
  },
  {
   "cell_type": "code",
   "execution_count": 13,
   "metadata": {},
   "outputs": [
    {
     "data": {
      "text/plain": [
       "'ptavrusasvyis ve ooo hny'"
      ]
     },
     "execution_count": 13,
     "metadata": {},
     "output_type": "execute_result"
    }
   ],
   "source": [
    "stroka[::2]"
   ]
  },
  {
   "cell_type": "code",
   "execution_count": 14,
   "metadata": {},
   "outputs": [
    {
     "data": {
      "text/plain": [
       "'ey enly  on osoymldyzeo'"
      ]
     },
     "execution_count": 14,
     "metadata": {},
     "output_type": "execute_result"
    }
   ],
   "source": [
    "stroka[1::2]"
   ]
  },
  {
   "cell_type": "code",
   "execution_count": 15,
   "metadata": {},
   "outputs": [
    {
     "data": {
      "text/plain": [
       "'yonehz yodolom yeovs os inyov s ayslunrev aytep'"
      ]
     },
     "execution_count": 15,
     "metadata": {},
     "output_type": "execute_result"
    }
   ],
   "source": [
    "stroka[::-1]"
   ]
  },
  {
   "cell_type": "code",
   "execution_count": 16,
   "metadata": {},
   "outputs": [
    {
     "data": {
      "text/plain": [
       "'ynh ooo ev siyvsasurvatp'"
      ]
     },
     "execution_count": 16,
     "metadata": {},
     "output_type": "execute_result"
    }
   ],
   "source": [
    "stroka[::-2]"
   ]
  },
  {
   "cell_type": "code",
   "execution_count": 17,
   "metadata": {},
   "outputs": [
    {
     "data": {
      "text/plain": [
       "47"
      ]
     },
     "execution_count": 17,
     "metadata": {},
     "output_type": "execute_result"
    }
   ],
   "source": [
    "len(stroka)"
   ]
  },
  {
   "cell_type": "markdown",
   "metadata": {},
   "source": [
    "Задание 4"
   ]
  },
  {
   "cell_type": "code",
   "execution_count": 18,
   "metadata": {},
   "outputs": [],
   "source": [
    "stroka1='kazak'"
   ]
  },
  {
   "cell_type": "code",
   "execution_count": 19,
   "metadata": {},
   "outputs": [],
   "source": [
    "stroka2='kazino'"
   ]
  },
  {
   "cell_type": "code",
   "execution_count": 20,
   "metadata": {},
   "outputs": [
    {
     "name": "stdout",
     "output_type": "stream",
     "text": [
      "YES\n"
     ]
    }
   ],
   "source": [
    "if stroka1==stroka1[::-1]:\n",
    "    print('YES')\n",
    "else:\n",
    "    print('NO')"
   ]
  },
  {
   "cell_type": "code",
   "execution_count": 21,
   "metadata": {},
   "outputs": [
    {
     "name": "stdout",
     "output_type": "stream",
     "text": [
      "NO\n"
     ]
    }
   ],
   "source": [
    "if stroka2==stroka2[::-1]:\n",
    "    print('YES')\n",
    "else:\n",
    "    print('NO')"
   ]
  },
  {
   "cell_type": "markdown",
   "metadata": {},
   "source": [
    "Задание 5"
   ]
  },
  {
   "cell_type": "code",
   "execution_count": 25,
   "metadata": {},
   "outputs": [],
   "source": [
    "tekst=\"\"\"законы физики рядом с черной дырой уже не работают в том представлении в котором мы привыкли \n",
    "пространство время искривляется и все события протекают уже совсем по другому \n",
    "словно пылесос черная дыра поглощает все что находится около нее планеты астероиды свет и прочее \n",
    "ранее считалось что черная дыра ничего не излучает но как доказал стивен хокинг черная дыра излучает антивещество \n",
    "то есть поедает вещество и выделяет антивещество \n",
    "ранее думали что если кинуть в черную дыру человека то ему труба порвет на субатомы \n",
    "но как оказалось по некоторым уравнениям есть определенные траектории путешествия сквозь черную дыру чтоб чувствовать себя нормально \n",
    "правда не ясно что будет за ней другой мир или ничего \n",
    "область вокруг черной дыры которая интересна называется горизонтом событий \n",
    "если туда полететь не зная волшебное уравнение то будет конечно не очень \n",
    "наблюдатель будет видеть как космический корабль влетает в горизонт событий и крайне медленно потом отдаляется пока не застынет в центре\n",
    "у самого же космонавта дела будут идти совсем по другому \n",
    "искривленное пространство будет лепить из него как из пластилина различные формы пока наконец не разорвет все на субатомы \n",
    "но для внешнего наблюдателя космонавт навсегда останется улыбающимся и махающим в иллюминатор застывшим изображением\"\"\""
   ]
  },
  {
   "cell_type": "code",
   "execution_count": 30,
   "metadata": {},
   "outputs": [],
   "source": [
    "massiv=tekst.split()"
   ]
  },
  {
   "cell_type": "code",
   "execution_count": 31,
   "metadata": {},
   "outputs": [
    {
     "name": "stdout",
     "output_type": "stream",
     "text": [
      "['законы', 'физики', 'рядом', 'с', 'черной', 'дырой', 'уже', 'не', 'работают', 'в', 'том', 'представлении', 'в', 'котором', 'мы', 'привыкли', 'пространство', 'время', 'искривляется', 'и', 'все', 'события', 'протекают', 'уже', 'совсем', 'по', 'другому', 'словно', 'пылесос', 'черная', 'дыра', 'поглощает', 'все', 'что', 'находится', 'около', 'нее', 'планеты', 'астероиды', 'свет', 'и', 'прочее', 'ранее', 'считалось', 'что', 'черная', 'дыра', 'ничего', 'не', 'излучает', 'но', 'как', 'доказал', 'стивен', 'хокинг', 'черная', 'дыра', 'излучает', 'антивещество', 'то', 'есть', 'поедает', 'вещество', 'и', 'выделяет', 'антивещество', 'ранее', 'думали', 'что', 'если', 'кинуть', 'в', 'черную', 'дыру', 'человека', 'то', 'ему', 'труба', 'порвет', 'на', 'субатомы', 'но', 'как', 'оказалось', 'по', 'некоторым', 'уравнениям', 'есть', 'определенные', 'траектории', 'путешествия', 'сквозь', 'черную', 'дыру', 'чтоб', 'чувствовать', 'себя', 'нормально', 'правда', 'не', 'ясно', 'что', 'будет', 'за', 'ней', 'другой', 'мир', 'или', 'ничего', 'область', 'вокруг', 'черной', 'дыры', 'которая', 'интересна', 'называется', 'горизонтом', 'событий', 'если', 'туда', 'полететь', 'не', 'зная', 'волшебное', 'уравнение', 'то', 'будет', 'конечно', 'не', 'очень', 'наблюдатель', 'будет', 'видеть', 'как', 'космический', 'корабль', 'влетает', 'в', 'горизонт', 'событий', 'и', 'крайне', 'медленно', 'потом', 'отдаляется', 'пока', 'не', 'застынет', 'в', 'центре', 'у', 'самого', 'же', 'космонавта', 'дела', 'будут', 'идти', 'совсем', 'по', 'другому', 'искривленное', 'пространство', 'будет', 'лепить', 'из', 'него', 'как', 'из', 'пластилина', 'различные', 'формы', 'пока', 'наконец', 'не', 'разорвет', 'все', 'на', 'субатомы', 'но', 'для', 'внешнего', 'наблюдателя', 'космонавт', 'навсегда', 'останется', 'улыбающимся', 'и', 'махающим', 'в', 'иллюминатор', 'застывшим', 'изображением']\n"
     ]
    }
   ],
   "source": [
    "print(massiv)"
   ]
  },
  {
   "cell_type": "code",
   "execution_count": 40,
   "metadata": {},
   "outputs": [
    {
     "name": "stdout",
     "output_type": "stream",
     "text": [
      "vvedi slovo\n",
      "застывшим\n"
     ]
    }
   ],
   "source": [
    "print('vvedi slovo')\n",
    "slovo=input()"
   ]
  },
  {
   "cell_type": "code",
   "execution_count": 41,
   "metadata": {},
   "outputs": [
    {
     "name": "stdout",
     "output_type": "stream",
     "text": [
      "slovo застывшим vstrechaetsya 1 raz\n"
     ]
    }
   ],
   "source": [
    "est=0\n",
    "for s in massiv:\n",
    "    if s==slovo:\n",
    "        est+=1\n",
    "\n",
    "if est>0:\n",
    "    print('slovo %s vstrechaetsya %d raz'%(slovo, est))\n",
    "else:\n",
    "    massiv.append(slovo)\n",
    "    print('slovo %s dobavleno'% slovo)"
   ]
  },
  {
   "cell_type": "code",
   "execution_count": 42,
   "metadata": {},
   "outputs": [
    {
     "name": "stdout",
     "output_type": "stream",
     "text": [
      "['законы', 'физики', 'рядом', 'с', 'черной', 'дырой', 'уже', 'не', 'работают', 'в', 'том', 'представлении', 'в', 'котором', 'мы', 'привыкли', 'пространство', 'время', 'искривляется', 'и', 'все', 'события', 'протекают', 'уже', 'совсем', 'по', 'другому', 'словно', 'пылесос', 'черная', 'дыра', 'поглощает', 'все', 'что', 'находится', 'около', 'нее', 'планеты', 'астероиды', 'свет', 'и', 'прочее', 'ранее', 'считалось', 'что', 'черная', 'дыра', 'ничего', 'не', 'излучает', 'но', 'как', 'доказал', 'стивен', 'хокинг', 'черная', 'дыра', 'излучает', 'антивещество', 'то', 'есть', 'поедает', 'вещество', 'и', 'выделяет', 'антивещество', 'ранее', 'думали', 'что', 'если', 'кинуть', 'в', 'черную', 'дыру', 'человека', 'то', 'ему', 'труба', 'порвет', 'на', 'субатомы', 'но', 'как', 'оказалось', 'по', 'некоторым', 'уравнениям', 'есть', 'определенные', 'траектории', 'путешествия', 'сквозь', 'черную', 'дыру', 'чтоб', 'чувствовать', 'себя', 'нормально', 'правда', 'не', 'ясно', 'что', 'будет', 'за', 'ней', 'другой', 'мир', 'или', 'ничего', 'область', 'вокруг', 'черной', 'дыры', 'которая', 'интересна', 'называется', 'горизонтом', 'событий', 'если', 'туда', 'полететь', 'не', 'зная', 'волшебное', 'уравнение', 'то', 'будет', 'конечно', 'не', 'очень', 'наблюдатель', 'будет', 'видеть', 'как', 'космический', 'корабль', 'влетает', 'в', 'горизонт', 'событий', 'и', 'крайне', 'медленно', 'потом', 'отдаляется', 'пока', 'не', 'застынет', 'в', 'центре', 'у', 'самого', 'же', 'космонавта', 'дела', 'будут', 'идти', 'совсем', 'по', 'другому', 'искривленное', 'пространство', 'будет', 'лепить', 'из', 'него', 'как', 'из', 'пластилина', 'различные', 'формы', 'пока', 'наконец', 'не', 'разорвет', 'все', 'на', 'субатомы', 'но', 'для', 'внешнего', 'наблюдателя', 'космонавт', 'навсегда', 'останется', 'улыбающимся', 'и', 'махающим', 'в', 'иллюминатор', 'застывшим', 'изображением', 'малюсенький']\n"
     ]
    }
   ],
   "source": [
    "print(massiv)"
   ]
  },
  {
   "cell_type": "code",
   "execution_count": null,
   "metadata": {},
   "outputs": [],
   "source": []
  }
 ],
 "metadata": {
  "kernelspec": {
   "display_name": "Python 3",
   "language": "python",
   "name": "python3"
  },
  "language_info": {
   "codemirror_mode": {
    "name": "ipython",
    "version": 3
   },
   "file_extension": ".py",
   "mimetype": "text/x-python",
   "name": "python",
   "nbconvert_exporter": "python",
   "pygments_lexer": "ipython3",
   "version": "3.7.0"
  }
 },
 "nbformat": 4,
 "nbformat_minor": 2
}
